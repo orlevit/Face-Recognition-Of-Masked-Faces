{
 "cells": [
  {
   "cell_type": "code",
   "execution_count": 1,
   "metadata": {},
   "outputs": [],
   "source": [
    "import os\n",
    "import sys\n",
    "sys.argv=['']\n",
    "del sys\n",
    "import argparse\n",
    "from datetime import datetime\n",
    "from models_architecture import *\n",
    "from matplotlib.pyplot import hist\n",
    "import matplotlib.pyplot as plt\n",
    "from config import TRAIN_DATA_LOC, TRAIN_LABELS_LOC, TEST_DATA_LOC, TEST_LABELS_LOC, SPLIT_TRAIN, BATCH_SIZE, RUN_DIR, EMBBEDINGS_NUMBER, MODELS_NUMBER, \\\n",
    "                   TRAIN_DS_IND, VALID_DS_IND, TEST_DS_IND, EPOCHS, MODELS_SAVE_PATH, MIN_LOSS_SAVE, EARLY_STOP_DIFF, EMBBEDINGS_REDUCED, LINEAR_INIT, BILINEAR_INIT\n",
    "from helper import select_train_valid, one_epoch_run, create_dataloaders, get_optimizer, parse_arguments, initialize_weights \n",
    "BASE_MODELS_PATH='/home/orlev/work/Face-Recognition-Of-Masked-Faces/scripts/converted_data/models'"
   ]
  },
  {
   "cell_type": "code",
   "execution_count": 2,
   "metadata": {},
   "outputs": [],
   "source": [
    "device = torch.device('cuda' if torch.cuda.is_available() else 'cpu')\n",
    "parser = argparse.ArgumentParser(description='do verification') \n",
    "parser.add_argument('-cn', '--combination-number', type=int, default=1)\n",
    "args = parser.parse_args()"
   ]
  },
  {
   "cell_type": "code",
   "execution_count": 3,
   "metadata": {},
   "outputs": [],
   "source": [
    "data = torch.load(TRAIN_DATA_LOC)\n",
    "labels = torch.load(TRAIN_LABELS_LOC)\n",
    "test_data = torch.load(TEST_DATA_LOC)[:,:,:]\n",
    "test_labels = torch.load(TEST_LABELS_LOC)\n",
    "mask = select_train_valid(data, SPLIT_TRAIN, args)\n",
    "\n",
    "train_data = data[:, np.repeat(mask, 2), :]\n",
    "train_labels = labels[:len(mask)][mask]\n",
    "valid_data = data[:, ~np.repeat(mask, 2), :]\n",
    "valid_labels = labels[:len(mask)][~mask]"
   ]
  },
  {
   "cell_type": "code",
   "execution_count": 4,
   "metadata": {
    "scrolled": true
   },
   "outputs": [
    {
     "data": {
      "text/plain": [
       "NeuralNetwork5(\n",
       "  (flatten): Flatten(start_dim=1, end_dim=-1)\n",
       "  (reduction1): Linear(in_features=512, out_features=32, bias=True)\n",
       "  (reduction2): Linear(in_features=512, out_features=32, bias=True)\n",
       "  (reduction3): Linear(in_features=512, out_features=32, bias=True)\n",
       "  (reduction4): Linear(in_features=512, out_features=32, bias=True)\n",
       "  (reduction5): Linear(in_features=512, out_features=32, bias=True)\n",
       "  (reduction6): Linear(in_features=512, out_features=32, bias=True)\n",
       "  (reduction7): Linear(in_features=512, out_features=32, bias=True)\n",
       "  (fc1): Linear(in_features=672, out_features=512, bias=True)\n",
       "  (fc2): Linear(in_features=512, out_features=1, bias=True)\n",
       ")"
      ]
     },
     "execution_count": 4,
     "metadata": {},
     "output_type": "execute_result"
    }
   ],
   "source": [
    "MODEL_PATH = os.path.join(BASE_MODELS_PATH, 'NeuralNetwork5_1_32_D14_02_2022_T21_33_01_847938.pt')\n",
    "model = NeuralNetwork5()\n",
    "model.load_state_dict(torch.load(MODEL_PATH))\n",
    "model.to(device)\n",
    "model.eval()"
   ]
  },
  {
   "cell_type": "code",
   "execution_count": 55,
   "metadata": {},
   "outputs": [],
   "source": [
    "def plotit(data, labels):\n",
    "    emb1 = torch.Tensor(data[:,0::2,:]).to(device).transpose(0,1)\n",
    "    emb2 = torch.Tensor(data[:,1::2,:]).to(device).transpose(0,1)\n",
    "    predicted_labels = model(emb1,emb2)\n",
    "    print('same/different pairs ratio: ',sum(labels)/len(labels))\n",
    "    plabels = predicted_labels.cpu().detach().numpy()\n",
    "    converted_labels = labels.astype(float)[:, None]\n",
    "    converted_labels[converted_labels == 0] = -1\n",
    "    acc = (sum((converted_labels * plabels) > 0) / len(converted_labels))[0]\n",
    "    print('Accuracy: ', acc)\n",
    "    \n",
    "    plt.figure(figsize=(8,6))\n",
    "    thresholds = np.arange(min(plabels), max(plabels), 0.01)\n",
    "    train_same_person = list(np.concatenate( plabels[labels], axis=0))\n",
    "    train_diff_person = list(np.concatenate( plabels[~labels], axis=0))\n",
    "    _ = hist([train_same_person, train_diff_person], bins=thresholds, color=['green', 'red'], label=['same','diff'])\n",
    "    plt.axvline(0,color ='black')\n",
    "    plt.legend(['diff', 'same'])\n",
    "\n"
   ]
  },
  {
   "cell_type": "code",
   "execution_count": 57,
   "metadata": {
    "scrolled": true
   },
   "outputs": [
    {
     "name": "stdout",
     "output_type": "stream",
     "text": [
      "same/different pairs ratio:  0.5014772727272727\n",
      "Accuracy:  0.885275974025974\n"
     ]
    },
    {
     "data": {
      "image/png": "[encoded data removed]",
      "text/plain": [
       "<Figure size 576x432 with 1 Axes>"
      ]
     },
     "metadata": {
      "needs_background": "light"
     },
     "output_type": "display_data"
    }
   ],
   "source": [
    "plotit(train_data, train_labels)"
   ]
  },
  {
   "cell_type": "code",
   "execution_count": 60,
   "metadata": {},
   "outputs": [
    {
     "name": "stdout",
     "output_type": "stream",
     "text": [
      "same/different pairs ratio:  0.4940909090909091\n",
      "Accuracy:  0.8701298701298701\n"
     ]
    },
    {
     "data": {
      "image/png": "[encoded data removed]",
      "text/plain": [
       "<Figure size 576x432 with 1 Axes>"
      ]
     },
     "metadata": {
      "needs_background": "light"
     },
     "output_type": "display_data"
    }
   ],
   "source": [
    "plotit(valid_data, valid_labels)"
   ]
  },
  {
   "cell_type": "code",
   "execution_count": 59,
   "metadata": {},
   "outputs": [
    {
     "name": "stdout",
     "output_type": "stream",
     "text": [
      "same/different pairs ratio:  0.5\n",
      "Accuracy:  0.7700476190476191\n"
     ]
    },
    {
     "data": {
      "image/png": "[encoded data removed]",
      "text/plain": [
       "<Figure size 576x432 with 1 Axes>"
      ]
     },
     "metadata": {
      "needs_background": "light"
     },
     "output_type": "display_data"
    }
   ],
   "source": [
    "plotit(test_data, test_labels)"
   ]
  },
  {
   "cell_type": "code",
   "execution_count": null,
   "metadata": {},
   "outputs": [],
   "source": []
  }
 ],
 "metadata": {
  "kernelspec": {
   "display_name": "Python 3",
   "language": "python",
   "name": "python3"
  },
  "language_info": {
   "codemirror_mode": {
    "name": "ipython",
    "version": 3
   },
   "file_extension": ".py",
   "mimetype": "text/x-python",
   "name": "python",
   "nbconvert_exporter": "python",
   "pygments_lexer": "ipython3",
   "version": "3.7.4"
  }
 },
 "nbformat": 4,
 "nbformat_minor": 4
}
